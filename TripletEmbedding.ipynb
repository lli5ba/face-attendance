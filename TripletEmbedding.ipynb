{
 "cells": [
  {
   "cell_type": "code",
   "execution_count": 1,
   "metadata": {
    "collapsed": false
   },
   "outputs": [
    {
     "data": {
      "text/plain": [
       "Loading whole data set. Please wait..."
      ]
     },
     "execution_count": 1,
     "metadata": {},
     "output_type": "execute_result"
    },
    {
     "data": {
      "text/plain": [
       " Done.\t\n"
      ]
     },
     "execution_count": 1,
     "metadata": {},
     "output_type": "execute_result"
    }
   ],
   "source": [
    "--------------------------------------------------------------------------------\n",
    "-- Loading dataset to ram and sorting triplets\n",
    "--------------------------------------------------------------------------------\n",
    "-- Alfredo Canziani, Apr 15\n",
    "--------------------------------------------------------------------------------\n",
    "\n",
    "require 'image'\n",
    "require 'sys'\n",
    "require 'xlua'\n",
    "\n",
    "-- set to 1 if using GPU\n",
    "cuda = 1\n",
    "if cuda == 1 then\n",
    "    require 'cunn'\n",
    "    require 'cutorch'\n",
    "end\n",
    "\n",
    "torch.setdefaulttensortype('torch.FloatTensor')\n",
    "\n",
    "local dataset = {}\n",
    "local imageSide = 120\n",
    "\n",
    "\n",
    "-- Loading the dataset to RAM --------------------------------------------------\n",
    "if paths.filep('dataset.t7') then\n",
    "   io.write('Loading whole data set. Please wait...'); io.flush()\n",
    "   dataset = torch.load('dataset.t7')\n",
    "   print(' Done.')\n",
    "else\n",
    "   -- This script uses pubfig83.v1.tgz from http://vision.seas.harvard.edu/pubfig83/\n",
    "   -- split in train and test folders\n",
    "   -- each containing identities folders with images inside.\n",
    "   -- Format:\n",
    "   -- datasetRoot/{train,test}/<celebrityName>\n",
    "   local datasetPaths = {}\n",
    "   datasetPaths.base = 'pubfig83'\n",
    "\n",
    "   for _, t in ipairs {'train', 'test'} do\n",
    "      print('Building ' .. t .. 'ing data set')\n",
    "\n",
    "      datasetPaths[t] = datasetPaths.base .. '/' .. t .. '/'\n",
    "      local identities = sys.ls(datasetPaths[t]):split('\\n')\n",
    "        print(identities)\n",
    "      local dataSize = tonumber(sys.execute('find ' .. datasetPaths[t] .. ' -iname \"*.jpg\"| wc -l'))\n",
    "        print(dataSize)\n",
    "      dataset[t] = {\n",
    "         data = torch.Tensor(dataSize, 3, imageSide, imageSide),\n",
    "         label = torch.Tensor(dataSize),\n",
    "         index = torch.Tensor(#identities, 2),\n",
    "      }\n",
    "\n",
    "        \n",
    "      local count = 0\n",
    "      for id, idName in ipairs(identities) do\n",
    "         dataset[t].index[id][1] = count + 1\n",
    "         for _, img in ipairs(sys.ls(datasetPaths[t] .. idName):split('\\n')) do\n",
    "            count = count + 1\n",
    "            xlua.progress(count, dataSize)\n",
    "            -- print(count, paths.concat(datasetPaths[t], idName, img))\n",
    "            local original = image.load(paths.concat(datasetPaths[t], idName, img))\n",
    "            local h = original:size(2)\n",
    "            local w = original:size(3)\n",
    "            local m = math.min(h, w)\n",
    "            local y = math.floor((h - m) / 2)\n",
    "            local x = math.floor((w - m) / 2)\n",
    "            dataset[t].data[count] = image.scale(\n",
    "               original[{ {}, {y + 1, y + m}, {x + 1, x + m} }],\n",
    "               imageSide, imageSide\n",
    "            )\n",
    "            dataset[t].label[count] = id\n",
    "         end\n",
    "         dataset[t].index[id][2] = count\n",
    "         collectgarbage()\n",
    "      end\n",
    "   end\n",
    "\n",
    "   io.write('Saving whole data set to disk...'); io.flush()\n",
    "   torch.save('dataset.t7', dataset)\n",
    "   print(' Done.')\n",
    "\n",
    "    collectgarbage();\n",
    "end\n",
    "\n",
    "\n",
    "-- Private functions -----------------------------------------------------------\n",
    "-- Training shuffle\n",
    "local shuffle\n",
    "\n",
    "-- New index table for t: train/test\n",
    "local shuffleShuffle = function(t)\n",
    "   shuffle = torch.randperm(dataset[t].data:size(1))\n",
    "end\n",
    "\n",
    "\n",
    "-- Get nb of (train and test) batches gives the batch size\n",
    "local nbOfBatches = {}\n",
    "local batchSize, pImgs\n",
    "local getNbOfBatches = function(bS)\n",
    "   batchSize = bS\n",
    "   for _, t in ipairs {'train', 'test'} do\n",
    "      nbOfBatches[t] = math.floor(dataset[t].data:size(1) / batchSize)\n",
    "   end\n",
    "   pImgs = torch.Tensor(batchSize, 3, imageSide, imageSide)\n",
    "   return nbOfBatches\n",
    "end\n",
    "\n",
    "\n",
    "-- Initialise the (train and test) embeddings\n",
    "local embSize\n",
    "local initEmbeddings = function(eS)\n",
    "   embSize = eS\n",
    "   for _, t in ipairs {'train', 'test'} do\n",
    "      dataset[t].emb = torch.randn(dataset[t].data:size(1), embSize)\n",
    "      dataset[t].emb = dataset[t].emb:cdiv(dataset[t].emb:norm(2, 2):repeatTensor(1, embSize))\n",
    "        print(dataset[t])\n",
    "   end\n",
    "   print('Training and testing embeddings initialised with size ' .. embSize)\n",
    "end\n",
    "\n",
    "\n",
    "-- Get batch number nb for the t (train/test) dataset\n",
    "-- <mode> by default is 'hard-neg' but can be set to 'soft-neg'\n",
    "local pEmb\n",
    "local getBatch = function(nb, t, mode, epoch)\n",
    "\n",
    "   -- Main varialbles\n",
    "   local aImgs = torch.Tensor(batchSize, 3, imageSide, imageSide)\n",
    "   local nImgs = torch.Tensor(batchSize, 3, imageSide, imageSide)\n",
    "   local emb = torch.Tensor(batchSize, embSize)\n",
    "\n",
    "   -- Auxiliary variables\n",
    "   local labels = torch.Tensor(batchSize)\n",
    "   local offset = batchSize * (nb - 1)\n",
    "    \n",
    "    print('pass 0')\n",
    "    \n",
    "   -- Populating anchor and positive images batches\n",
    "   for i = 1, batchSize do\n",
    "      local loc = shuffle[i + offset] -- original location in data set\n",
    "      print('off good')\n",
    "      aImgs[i]  = dataset[t].data [loc]\n",
    "      print('off good')\n",
    "      emb[i]    = dataset[t].emb  [loc]\n",
    "    print('off good')\n",
    "      labels[i] = dataset[t].label[loc]\n",
    "        print('off good')\n",
    "      if mode ~= 'soft-neg2' then\n",
    "         pImgs[i]  = dataset[t].data [math.random(\n",
    "            dataset[t].index[labels[i]][1],\n",
    "            dataset[t].index[labels[i]][2]\n",
    "         )]\n",
    "      end\n",
    "   end\n",
    "    \n",
    "    \n",
    "    print('pass 1')\n",
    "\n",
    "   -- Populating negative images batche\n",
    "   local mode = mode or 'hard-neg'\n",
    "   if mode == 'hard-neg' then\n",
    "      for i = 1, batchSize do\n",
    "         local diff = emb - emb[{ {i} }]:expandAs(emb)\n",
    "         local norms = diff:norm(2, 2):squeeze()\n",
    "         norms[labels:eq(labels[i])] = norms:max()\n",
    "         local _, nIdx = norms:min(1) -- closest n-emb to a-emb\n",
    "         nImgs[i] = aImgs[nIdx[1]]\n",
    "      end\n",
    "   elseif mode == 'soft-neg1' then\n",
    "      -- do nothing\n",
    "   elseif mode == 'soft-neg2' then\n",
    "      for i = 1, batchSize do\n",
    "         local diff = emb - emb[{ {i} }]:expandAs(emb)\n",
    "         local norms = diff:norm(2, 2):squeeze()\n",
    "         norms = norms - torch.Tensor(batchSize):fill((emb[i]-pEmb[i]):norm())\n",
    "         norms[labels:eq(labels[i])] = norms:max()\n",
    "         norms[norms:lt(0)] = norms:max()\n",
    "         local _, nIdx = norms:min(1) -- closest n-emb to a-emb\n",
    "         nImgs[i] = aImgs[nIdx[1]]\n",
    "      end\n",
    "   else error('Negative populating <mode> not recognised!')\n",
    "   end\n",
    "\n",
    "   return {aImgs, pImgs, nImgs}\n",
    "\n",
    "end\n",
    "\n",
    "\n",
    "-- Moves the batch to the GPU's RAM\n",
    "local toCuda = function(batch)\n",
    "   require 'cutorch'\n",
    "   for i in ipairs(batch) do batch[i] = batch[i]:cuda() end\n",
    "end\n",
    "\n",
    "\n",
    "-- Saves the embeddings emb for the nb batch of t (train/test) data set\n",
    "local saveEmb = function(emb, nb, t, posEmb)\n",
    "   local offset = batchSize * (nb - 1)\n",
    "   for i = 1, batchSize do\n",
    "      dataset[t].emb[shuffle[i + offset]] = emb[i]:float()\n",
    "   end\n",
    "   if posEmb then pEmb = posEmb:float() end\n",
    "end\n",
    "\n",
    "local getDataset = function()\n",
    "    \n",
    "end\n",
    "\n",
    "-- Public functions ------------------------------------------------------------\n",
    "return {\n",
    "   select         = shuffleShuffle,\n",
    "   getNbOfBatches = getNbOfBatches,\n",
    "   initEmbeddings = initEmbeddings,\n",
    "   getBatch       = getBatch,\n",
    "   toCuda         = toCuda,\n",
    "   saveEmb        = saveEmb,\n",
    "}"
   ]
  },
  {
   "cell_type": "code",
   "execution_count": 2,
   "metadata": {
    "collapsed": true
   },
   "outputs": [],
   "source": [
    "collectgarbage();"
   ]
  },
  {
   "cell_type": "code",
   "execution_count": 3,
   "metadata": {
    "collapsed": false
   },
   "outputs": [
    {
     "data": {
      "text/plain": [
       "Loading whole data set. Please wait..."
      ]
     },
     "execution_count": 3,
     "metadata": {},
     "output_type": "execute_result"
    },
    {
     "data": {
      "text/plain": [
       " Done.\t\n"
      ]
     },
     "execution_count": 3,
     "metadata": {},
     "output_type": "execute_result"
    },
    {
     "data": {
      "text/plain": [
       "Training and testing embeddings initialised with size 5\t\n",
       "trainBatches: \t5874\t\n"
      ]
     },
     "execution_count": 3,
     "metadata": {},
     "output_type": "execute_result"
    },
    {
     "data": {
      "text/plain": [
       "batch = {aImg, pImg, nImg}: \t{\n",
       "  1 : FloatTensor - size: 10x3x120x120\n",
       "  2 : FloatTensor - size: 10x3x120x120\n",
       "  3 : FloatTensor - size: 10x3x120x120\n",
       "}\n",
       "Embedding saved for fast training\t\n"
      ]
     },
     "execution_count": 3,
     "metadata": {},
     "output_type": "execute_result"
    }
   ],
   "source": [
    "torch.manualSeed(0)\n",
    "math.randomseed(0)\n",
    "\n",
    "data = require 'data'\n",
    "\n",
    "-- Shuffling training data\n",
    "data.select('train') -- or 'test'\n",
    "\n",
    "-- Initialise embeddings\n",
    "embDim = 5\n",
    "data.initEmbeddings(embDim)\n",
    "\n",
    "-- Get train and test number of batches\n",
    "batchDim = 10\n",
    "trainBatches = data.getNbOfBatches(batchDim).train\n",
    "print('trainBatches: ', trainBatches)\n",
    "\n",
    "-- Get training batch nb 1\n",
    "batch = data.getBatch(1, 'train')\n",
    "print('batch = {aImg, pImg, nImg}: ', batch)\n",
    "\n",
    "-- Send batch to cuda\n",
    "--collectgarbage()\n",
    "--data.toCuda(batch)\n",
    "--print('Batch sent to GPU memory')\n",
    "\n",
    "-- Saving embeddings\n",
    "data.saveEmb(torch.randn(batchDim, embDim), 1, 'train')\n",
    "print('Embedding saved for fast training')\n"
   ]
  },
  {
   "cell_type": "code",
   "execution_count": 4,
   "metadata": {
    "collapsed": false
   },
   "outputs": [],
   "source": [
    "function printTriplets(batch)\n",
    "    for i = 1, 10 do\n",
    "            itorch.image({image.scale(batch[1][i], 48, 48), image.scale(batch[2][i], 48, 48), \n",
    "                image.scale(batch[3][i], 48, 48)})\n",
    "    end\n",
    "end"
   ]
  },
  {
   "cell_type": "code",
   "execution_count": 5,
   "metadata": {
    "collapsed": false
   },
   "outputs": [
    {
     "data": {
      "text/plain": [
       "batch = {aImg, pImg, nImg}: \t{\n",
       "  1 : FloatTensor - size: 10x3x120x120\n",
       "  2 : FloatTensor - size: 10x3x120x120\n",
       "  3 : FloatTensor - size: 10x3x120x120\n",
       "}\n"
      ]
     },
     "execution_count": 5,
     "metadata": {},
     "output_type": "execute_result"
    },
    {
     "data": {
      "image/png": "[encoded data removed]",
      "text/plain": [
       "Console does not support images"
      ]
     },
     "metadata": {
      "image/png": {
       "height": 50,
       "width": 150
      }
     },
     "output_type": "display_data"
    },
    {
     "data": {
      "image/png": "[encoded data removed]",
      "text/plain": [
       "Console does not support images"
      ]
     },
     "metadata": {
      "image/png": {
       "height": 50,
       "width": 150
      }
     },
     "output_type": "display_data"
    },
    {
     "data": {
      "image/png": "[encoded data removed]",
      "text/plain": [
       "Console does not support images"
      ]
     },
     "metadata": {
      "image/png": {
       "height": 50,
       "width": 150
      }
     },
     "output_type": "display_data"
    },
    {
     "data": {
      "image/png": "[encoded data removed]",
      "text/plain": [
       "Console does not support images"
      ]
     },
     "metadata": {
      "image/png": {
       "height": 50,
       "width": 150
      }
     },
     "output_type": "display_data"
    },
    {
     "data": {
      "image/png": "[encoded data removed]",
      "text/plain": [
       "Console does not support images"
      ]
     },
     "metadata": {
      "image/png": {
       "height": 50,
       "width": 150
      }
     },
     "output_type": "display_data"
    },
    {
     "data": {
      "image/png": "[encoded data removed]",
      "text/plain": [
       "Console does not support images"
      ]
     },
     "metadata": {
      "image/png": {
       "height": 50,
       "width": 150
      }
     },
     "output_type": "display_data"
    },
    {
     "data": {
      "image/png": "[encoded data removed]",
      "text/plain": [
       "Console does not support images"
      ]
     },
     "metadata": {
      "image/png": {
       "height": 50,
       "width": 150
      }
     },
     "output_type": "display_data"
    },
    {
     "data": {
      "image/png": "[encoded data removed]",
      "text/plain": [
       "Console does not support images"
      ]
     },
     "metadata": {
      "image/png": {
       "height": 50,
       "width": 150
      }
     },
     "output_type": "display_data"
    },
    {
     "data": {
      "image/png": "[encoded data removed]",
      "text/plain": [
       "Console does not support images"
      ]
     },
     "metadata": {
      "image/png": {
       "height": 50,
       "width": 150
      }
     },
     "output_type": "display_data"
    },
    {
     "data": {
      "image/png": "[encoded data removed]",
      "text/plain": [
       "Console does not support images"
      ]
     },
     "metadata": {
      "image/png": {
       "height": 50,
       "width": 150
      }
     },
     "output_type": "display_data"
    }
   ],
   "source": [
    "\n",
    "batch = data.getBatch(14, 'train')\n",
    "print('batch = {aImg, pImg, nImg}: ', batch)\n",
    "printTriplets(batch)"
   ]
  },
  {
   "cell_type": "code",
   "execution_count": 6,
   "metadata": {
    "collapsed": false
   },
   "outputs": [],
   "source": [
    "require 'nn'\n",
    "alexnet = torch.load('alexnetowtbn_epoch55_cpu.t7')"
   ]
  },
  {
   "cell_type": "code",
   "execution_count": 7,
   "metadata": {
    "collapsed": false
   },
   "outputs": [],
   "source": [
    "function createModel(alexnet)\n",
    "--     local alexnet = createModelAlex()\n",
    "    --convNet = createModelAlex()\n",
    "    local alexnet = alexnet:clone()\n",
    "    alexnet:evaluate()\n",
    "    alexnet:get(2):remove()\n",
    "    alexnet:get(2):remove()\n",
    "    alexnet:get(2):remove()\n",
    "    alexnet:get(2):remove()\n",
    "\n",
    "    convNet = alexnet\n",
    "    convNet:get(2):add(nn.View(4096))\n",
    "    convNet:get(2):add(nn.Linear(4096, 128))\n",
    "    convNet:get(2):add(nn.Normalize(2))\n",
    "    convNetPos = convNet:clone('weight', 'bias', 'gradWeight', 'gradBias')\n",
    "    convNetNeg = convNet:clone('weight', 'bias', 'gradWeight', 'gradBias')\n",
    "    -- Parallel container\n",
    "    parallel = nn.ParallelTable()\n",
    "    parallel:add(convNet)\n",
    "    parallel:add(convNetPos)\n",
    "    parallel:add(convNetNeg)\n",
    "    return parallel\n",
    "end\n",
    "\n",
    "function createModelTrip()\n",
    "    embeddingSize = 3\n",
    "    convNet = nn.Sequential()\n",
    "    convNet:add(nn.SpatialConvolution(3, 8, 5, 5))\n",
    "    convNet:add(nn.SpatialMaxPooling(2, 2, 2, 2))\n",
    "    convNet:add(nn.ReLU())\n",
    "    convNet:add(nn.SpatialConvolution(8, 8, 5, 5))\n",
    "    convNet:add(nn.SpatialMaxPooling(2, 2, 2, 2))\n",
    "    convNet:add(nn.ReLU())\n",
    "    convNet:add(nn.View(8*2*2))\n",
    "    convNet:add(nn.Linear(8*2*2, embeddingSize))\n",
    "    convNet:add(nn.BatchNormalization(embeddingSize))\n",
    "    \n",
    "    convNetPos = convNet:clone('weight', 'bias', 'gradWeight', 'gradBias')\n",
    "    convNetNeg = convNet:clone('weight', 'bias', 'gradWeight', 'gradBias')\n",
    "    -- Parallel container\n",
    "    parallel = nn.ParallelTable()\n",
    "    parallel:add(convNet)\n",
    "    parallel:add(convNetPos)\n",
    "    parallel:add(convNetNeg)\n",
    "    return parallel:cuda()\n",
    "end\n",
    "\n",
    "\n",
    "function computeSimilarity(x, y)\n",
    "--     -- use L2 norm distance\n",
    "--     diff = x - y\n",
    "--     return diff:norm(2,1):pow(2)\n",
    "--     local dist_sum = 0\n",
    "--     for i = 1, 128 do\n",
    "--         dist_sum += x[i] \n",
    "    return torch.dist(x, y)\n",
    "end"
   ]
  },
  {
   "cell_type": "code",
   "execution_count": 8,
   "metadata": {
    "collapsed": false
   },
   "outputs": [],
   "source": [
    "imgDim = 224\n",
    "\n",
    "local conv = nn.SpatialConvolutionMM\n",
    "local relu = nn.ReLU\n",
    "local mp = nn.SpatialMaxPooling\n",
    "\n",
    "function createModelVGG()\n",
    "   local net = nn.Sequential()\n",
    "\n",
    "   net:add(conv(3, 64, 3,3, 1,1, 1,1))\n",
    "   net:add(relu(true))\n",
    "   net:add(conv(64, 64, 3,3, 1,1, 1,1))\n",
    "   net:add(relu(true))\n",
    "   net:add(mp(2,2, 2,2))\n",
    "   net:add(conv(64, 128, 3,3, 1,1, 1,1))\n",
    "   net:add(relu(true))\n",
    "   net:add(conv(128, 128, 3,3, 1,1, 1,1))\n",
    "   net:add(relu(true))\n",
    "   net:add(mp(2,2, 2,2))\n",
    "   net:add(conv(128, 256, 3,3, 1,1, 1,1))\n",
    "   net:add(relu(true))\n",
    "   net:add(conv(256, 256, 3,3, 1,1, 1,1))\n",
    "   net:add(relu(true))\n",
    "   net:add(conv(256, 256, 3,3, 1,1, 1,1))\n",
    "   net:add(relu(true))\n",
    "   net:add(mp(2,2, 2,2))\n",
    "   net:add(conv(256, 512, 3,3, 1,1, 1,1))\n",
    "   net:add(relu(true))\n",
    "   net:add(conv(512, 512, 3,3, 1,1, 1,1))\n",
    "   net:add(relu(true))\n",
    "   net:add(conv(512, 512, 3,3, 1,1, 1,1))\n",
    "   net:add(relu(true))\n",
    "   net:add(mp(2,2, 2,2))\n",
    "   net:add(conv(512, 512, 3,3, 1,1, 1,1))\n",
    "   net:add(relu(true))\n",
    "   net:add(conv(512, 512, 3,3, 1,1, 1,1))\n",
    "   net:add(relu(true))\n",
    "   net:add(conv(512, 512, 3,3, 1,1, 1,1))\n",
    "   net:add(relu(true))\n",
    "   net:add(mp(2,2, 2,2))\n",
    "\n",
    "   -- Validate shape with:\n",
    "   -- net:add(nn.Reshape(25088))\n",
    "\n",
    "   net:add(nn.View(25088))\n",
    "   net:add(nn.Linear(25088, 4096))\n",
    "   net:add(relu(true))\n",
    "\n",
    "   net:add(nn.Linear(4096, 128))\n",
    "   net:add(nn.Normalize(2))\n",
    "    \n",
    "    convNetPos = net:clone('weight', 'bias', 'gradWeight', 'gradBias')\n",
    "    convNetNeg = net:clone('weight', 'bias', 'gradWeight', 'gradBias')\n",
    "    -- Parallel container\n",
    "    parallel = nn.ParallelTable()\n",
    "    parallel:add(net)\n",
    "    parallel:add(convNetPos)\n",
    "    parallel:add(convNetNeg)\n",
    "\n",
    "    return parallel\n",
    "end\n",
    "\n",
    "function createModelAlex()\n",
    "    local net = nn.Sequential()\n",
    "    local fb1 = nn.Sequential()\n",
    "    fb1:add(nn.SpatialConvolution(3,64,11,11,4,4,2,2))       -- 224 -> 55\n",
    "    fb1:add(nn.ReLU(true))\n",
    "    fb1:add(nn.SpatialMaxPooling(3,3,2,2))                   -- 55 ->  27\n",
    "    fb1:add(nn.SpatialConvolution(64,192,5,5,1,1,2,2))       --  27 -> 27\n",
    "    fb1:add(nn.ReLU(true))\n",
    "    fb1:add(nn.SpatialMaxPooling(3,3,2,2))                   --  27 ->  13\n",
    "    fb1:add(nn.SpatialConvolution(192,384,3,3,1,1,1,1))      --  13 ->  13\n",
    "    fb1:add(nn.ReLU(true))\n",
    "    fb1:add(nn.SpatialConvolution(384,256,3,3,1,1,1,1))      --  13 ->  13\n",
    "    fb1:add(nn.ReLU(true))\n",
    "    fb1:add(nn.SpatialConvolution(256,256,3,3,1,1,1,1))      --  13 ->  13\n",
    "    fb1:add(nn.ReLU(true))\n",
    "    fb1:add(nn.SpatialMaxPooling(3,3,2,2))                   -- 13 -> 6\n",
    "\n",
    "    local classifier = nn.Sequential()\n",
    "    classifier:add(nn.View(256*6*6))\n",
    "    classifier:add(nn.Dropout(0.5))\n",
    "    classifier:add(nn.Linear(256*6*6, 4096))\n",
    "    classifier:add(nn.Threshold(0, 1e-6))\n",
    "    classifier:add(nn.Dropout(0.5))\n",
    "--     classifier:add(nn.View(4096))\n",
    "    classifier:add(nn.Linear(4096, 128))\n",
    "    classifier:add(nn.Normalize(2))\n",
    "    \n",
    "    net:add(fb1)\n",
    "    net:add(classifier)\n",
    "    return net\n",
    "end"
   ]
  },
  {
   "cell_type": "code",
   "execution_count": 9,
   "metadata": {
    "collapsed": true
   },
   "outputs": [],
   "source": [
    "require 'nn'\n",
    "\n",
    "--Load the AlexNet model\n",
    "meanStd = torch.load('alexnetowtbn_meanStd.t7')\n",
    "\n",
    "-- Pre-process the image channel by channel.\n",
    "function preprocess(im)\n",
    "    local output_image = image.scale(im:clone(), 224, 224)\n",
    "    for i = 1, 3 do -- channels\n",
    "        output_image[{{i},{},{}}]:add(-meanStd.mean[i])\n",
    "        output_image[{{i},{},{}}]:div(meanStd.std[i])\n",
    "    end\n",
    "    return output_image\n",
    "end"
   ]
  },
  {
   "cell_type": "code",
   "execution_count": 10,
   "metadata": {
    "collapsed": false
   },
   "outputs": [],
   "source": [
    "require 'nn'\n",
    "require 'TripletEmbedding'\n",
    "\n",
    "local criterion = nn.TripletEmbeddingCriterion()\n",
    "if cuda == 1 then\n",
    "    criterion = criterion:cuda()\n",
    "end\n",
    "\n",
    "function trainModel(model, opt)\n",
    "    if cuda == 1 then\n",
    "        print(\"loading model onto GPU\")\n",
    "        model = model:cuda()\n",
    "    end\n",
    "    \n",
    "    -- Get all the parameters (and gradients) of the model in a single vector.\n",
    "    print(\"getting params\")\n",
    "    -- local params, gradParams = model:getParameters()\n",
    "    local singleNet = model.modules[1]\n",
    "    local opt = opt or {}\n",
    "    local batchSize = opt.batchSize or 10  -- The bigger the batch size the most accurate the gradients.\n",
    "    local numEpochs = opt.numEpochs or 3\n",
    "    print(\"getting batches\")\n",
    "    local trainBatches = data.getNbOfBatches(batchSize).train\n",
    "    print('trainBatches: ', trainBatches)\n",
    "    local numEpochs = trainBatches\n",
    "    -- Go over the training data this number of times.\n",
    "    local inputs = data.getBatch(1, 'train')\n",
    "     for epoch = 1, 10 do\n",
    "        local sum_loss = 0\n",
    "        local correct = 0\n",
    "--         local inputs = data.getBatch(1, 'train')\n",
    "\n",
    "        -- Run over the training set samples.\n",
    "        -- set internal var Train=True so that layers like Dropout behave correctly. Also see :evaluate()\n",
    "        \n",
    "--         model:training()\n",
    "        \n",
    "        -- 2. Perform the forward pass (prediction mode).\n",
    "        --:view(1, 3, 224, 224)\n",
    "        -- Ancore training samples/images\n",
    "        local imageDim = 20\n",
    "        local batch = 10\n",
    "        aImgs = torch.rand(batch, 3, imageDim, imageDim):cuda()\n",
    "        pImgs = torch.rand(batch, 3, imageDim, imageDim):cuda()\n",
    "        -- Negative training samples/images\n",
    "        nImgs = torch.rand(batch, 3, imageDim, imageDim):cuda()\n",
    "--         print(nImgs)\n",
    "        \n",
    "        \n",
    "        wrapperTotal = torch.Tensor(3, 10, 3, imageDim, imageDim)\n",
    "        \n",
    "        for apn = 1, 3 do\n",
    "            for batchN = 1, batchSize do\n",
    "                wrapper = torch.Tensor(1, 3, imageDim, imageDim)\n",
    "                wrapper[1] = image.scale(inputs[apn][batchN], imageDim, imageDim)\n",
    "                wrapperTotal[apn][batchSize] = wrapper\n",
    "            end\n",
    "        end\n",
    "--         wrapperTotal = {inputs[1], inputs[2], inputs[3]}\n",
    "--         wrapperTotal = inputs\n",
    "        \n",
    "--         print(image.scale(inputs[1], imageDim, imageDim))\n",
    "--         print('haha')\n",
    "        if cuda == 1 then\n",
    "            wrapperTotal = wrapperTotal:cuda()\n",
    "        end\n",
    "--         print(inputs)\n",
    "--         print(inputs:size())\n",
    "--         print({wrapperTotal[1], wrapperTotal[2], wrapperTotal[3]})\n",
    "--         local predictions = model:forward({wrapperTotal[1], wrapperTotal[2], wrapperTotal[3]})\n",
    "        print({aImgs, pImgs, nImgs})\n",
    "        local predictions = model:forward({aImgs, pImgs, nImgs})\n",
    "--         print('haha1')\n",
    "        print(predictions)\n",
    "        --print(\"passed\")\n",
    "        -- 3. Evaluate results.\n",
    "        --for i = 1, predictions:size(1) do\n",
    "        --    local _, predicted_label = predictions[i]:max(1)\n",
    "        --    if predicted_label[1] == labels[i] then correct = correct + 1 end\n",
    "        --end\n",
    "        local sum_loss = sum_loss + criterion:forward(predictions)\n",
    "--         print(\"passed stage 2\")\n",
    "        -- TODO: need to figure out how to change this to accomandate the BCECriterion\n",
    "        -- 4. Perform the backward pass (compute derivatives).\n",
    "        -- This zeroes-out all the parameters inside the model pointed by variable params.\n",
    "        \n",
    "--          print(\"passed stage 3\")\n",
    "        -- This internally computes the gradients with respect to the parameters pointed by gradParams.\n",
    "        local gradPredictions = criterion:backward(predictions)\n",
    "        model:zeroGradParameters()\n",
    "--          print(\"passed stage 4\")\n",
    "        --{wrapper, wrapper2, wrapper3}\n",
    "        model:backward({aImgs, pImgs, nImgs}, gradPredictions)\n",
    "        model:updateParameters(0.01)\n",
    "--          print(\"passed stage 5\")\n",
    "         -- 5. Perform the SGD update.\n",
    "        if epoch % 100 == 0 then\n",
    "            model:updateParameters(0.01)\n",
    "        end\n",
    "        \n",
    "        if epoch % 10 == 0 then  -- Print this every 10 epochs.\n",
    "            print(('train epoch=%d, avg-loss=%.6f')\n",
    "                :format(epoch, sum_loss / epoch))\n",
    "        end\n",
    "\n",
    "        -- Run over the validation set for evaluation.\n",
    "        print(epoch)\n",
    "        itorch.image({image.scale(inputs[1][1], 48, 48), image.scale(inputs[2][1], 48, 48), \n",
    "                image.scale(inputs[3][1], 48, 48)})\n",
    "        \n",
    "        if epoch == 1 then\n",
    "            print(predictions[1][1])\n",
    "        end\n",
    "        \n",
    "        local ap = computeSimilarity(predictions[1][1], predictions[2][1])\n",
    "        local an = computeSimilarity(predictions[1][1], predictions[3][1])\n",
    "        print(('\\na-->p %.4f'):format(ap))\n",
    "        print(('\\na-->n %.4f'):format(an))\n",
    "        --print(('\\nvalidation accuracy at epoch = %d is %.4f'):format(epoch, validation_accuracy))\n",
    "    end\n",
    "end"
   ]
  },
  {
   "cell_type": "code",
   "execution_count": 11,
   "metadata": {
    "collapsed": false
   },
   "outputs": [],
   "source": [
    "--model = createModelTrip()\n"
   ]
  },
  {
   "cell_type": "code",
   "execution_count": 12,
   "metadata": {
    "collapsed": false,
    "scrolled": true
   },
   "outputs": [],
   "source": [
    "--trainModel(model:clone(), {})"
   ]
  },
  {
   "cell_type": "code",
   "execution_count": 11,
   "metadata": {
    "collapsed": false
   },
   "outputs": [
    {
     "data": {
      "text/plain": [
       "trainBatches = 5874\t\n"
      ]
     },
     "execution_count": 11,
     "metadata": {},
     "output_type": "execute_result"
    },
    {
     "data": {
      "text/plain": [
       "\u001b[0;32mEpoch 1\u001b[0m\t\n",
       "\n",
       "a-->p 0.265265\t\n",
       "\n",
       "a-->n 0.338442\t\n",
       "\u001b[0;31mloss: \u001b[0m\t0.169152\t\n"
      ]
     },
     "execution_count": 11,
     "metadata": {},
     "output_type": "execute_result"
    },
    {
     "data": {
      "text/plain": [
       "\u001b[0;32mEpoch 1\u001b[0m\t\n",
       "\n",
       "a-->p 0.328813\t\n",
       "\n",
       "a-->n 0.468860\t\n",
       "\u001b[0;31mloss: \u001b[0m\t0.135115\t\n"
      ]
     },
     "execution_count": 11,
     "metadata": {},
     "output_type": "execute_result"
    },
    {
     "data": {
      "text/plain": [
       "\u001b[0;32mEpoch 1\u001b[0m\t\n",
       "\n",
       "a-->p 0.349005\t\n",
       "\n",
       "a-->n 0.554137\t\n",
       "\u001b[0;31mloss: \u001b[0m\t0.110566\t\n"
      ]
     },
     "execution_count": 11,
     "metadata": {},
     "output_type": "execute_result"
    },
    {
     "data": {
      "text/plain": [
       "\u001b[0;32mEpoch 2\u001b[0m\t\n",
       "\n",
       "a-->p 0.341084\t\n",
       "\n",
       "a-->n 0.597245\t\n",
       "\u001b[0;31mloss: \u001b[0m\t0.094194\t\n"
      ]
     },
     "execution_count": 11,
     "metadata": {},
     "output_type": "execute_result"
    },
    {
     "data": {
      "text/plain": [
       "\u001b[0;32mEpoch 2\u001b[0m\t\n",
       "\n",
       "a-->p 0.351974\t\n",
       "\n",
       "a-->n 0.628097\t\n",
       "\u001b[0;31mloss: \u001b[0m\t0.089156\t\n"
      ]
     },
     "execution_count": 11,
     "metadata": {},
     "output_type": "execute_result"
    },
    {
     "data": {
      "text/plain": [
       "\u001b[0;32mEpoch 2\u001b[0m\t\n",
       "\n",
       "a-->p 0.353142\t\n",
       "\n",
       "a-->n 0.668859\t\n",
       "\u001b[0;31mloss: \u001b[0m\t0.078126\t\n"
      ]
     },
     "execution_count": 11,
     "metadata": {},
     "output_type": "execute_result"
    },
    {
     "data": {
      "text/plain": [
       "\u001b[0;32mEpoch 3\u001b[0m\t\n"
      ]
     },
     "execution_count": 11,
     "metadata": {},
     "output_type": "execute_result"
    },
    {
     "data": {
      "text/plain": [
       "\n",
       "a-->p 0.367127\t\n",
       "\n",
       "a-->n 0.718725\t\n",
       "\u001b[0;31mloss: \u001b[0m\t0.069069\t\n"
      ]
     },
     "execution_count": 11,
     "metadata": {},
     "output_type": "execute_result"
    },
    {
     "data": {
      "text/plain": [
       "\u001b[0;32mEpoch 3\u001b[0m\t\n",
       "\n",
       "a-->p 0.365399\t\n",
       "\n",
       "a-->n 0.735172\t\n",
       "\u001b[0;31mloss: \u001b[0m\t0.064153\t\n"
      ]
     },
     "execution_count": 11,
     "metadata": {},
     "output_type": "execute_result"
    },
    {
     "data": {
      "text/plain": [
       "\u001b[0;32mEpoch 3\u001b[0m\t\n",
       "\n",
       "a-->p 0.362890\t\n",
       "\n",
       "a-->n 0.744370\t\n",
       "\u001b[0;31mloss: \u001b[0m\t0.061243\t\n"
      ]
     },
     "execution_count": 11,
     "metadata": {},
     "output_type": "execute_result"
    },
    {
     "data": {
      "text/plain": [
       "\u001b[0;32mEpoch 4\u001b[0m\t\n",
       "\n",
       "a-->p 0.376887\t\n",
       "\n",
       "a-->n 0.782733\t\n",
       "\u001b[0;31mloss: \u001b[0m\t0.057244\t\n"
      ]
     },
     "execution_count": 11,
     "metadata": {},
     "output_type": "execute_result"
    },
    {
     "data": {
      "text/plain": [
       "\u001b[0;32mEpoch 4\u001b[0m\t\n",
       "\n",
       "a-->p 0.373507\t\n",
       "\n",
       "a-->n 0.786618\t\n",
       "\u001b[0;31mloss: \u001b[0m\t0.054596\t\n"
      ]
     },
     "execution_count": 11,
     "metadata": {},
     "output_type": "execute_result"
    },
    {
     "data": {
      "text/plain": [
       "\u001b[0;32mEpoch 4\u001b[0m\t\n",
       "\n",
       "a-->p 0.383985\t\n",
       "\n",
       "a-->n 0.809793\t\n",
       "\u001b[0;31mloss: \u001b[0m\t0.052521\t\n"
      ]
     },
     "execution_count": 11,
     "metadata": {},
     "output_type": "execute_result"
    },
    {
     "data": {
      "text/plain": [
       "\u001b[0;32mEpoch 5\u001b[0m\t\n",
       "\n",
       "a-->p 0.382042\t\n",
       "\n",
       "a-->n 0.817597\t\n",
       "\u001b[0;31mloss: \u001b[0m\t0.050236\t\n"
      ]
     },
     "execution_count": 11,
     "metadata": {},
     "output_type": "execute_result"
    },
    {
     "data": {
      "text/plain": [
       "\u001b[0;32mEpoch 5\u001b[0m\t\n",
       "\n",
       "a-->p 0.382507\t\n",
       "\n",
       "a-->n 0.827324\t\n",
       "\u001b[0;31mloss: \u001b[0m\t0.048120\t\n"
      ]
     },
     "execution_count": 11,
     "metadata": {},
     "output_type": "execute_result"
    },
    {
     "data": {
      "text/plain": [
       "\u001b[0;32mEpoch 5\u001b[0m\t\n",
       "\n",
       "a-->p 0.385395\t\n",
       "\n",
       "a-->n 0.828467\t\n",
       "\u001b[0;31mloss: \u001b[0m\t0.048637\t\n"
      ]
     },
     "execution_count": 11,
     "metadata": {},
     "output_type": "execute_result"
    },
    {
     "data": {
      "text/plain": [
       "\u001b[0;32mEpoch 6\u001b[0m\t\n",
       "\n",
       "a-->p 0.386677\t\n",
       "\n",
       "a-->n 0.860928\t\n",
       "\u001b[0;31mloss: \u001b[0m\t0.041207\t\n"
      ]
     },
     "execution_count": 11,
     "metadata": {},
     "output_type": "execute_result"
    },
    {
     "data": {
      "text/plain": [
       "\u001b[0;32mEpoch 6\u001b[0m\t\n",
       "\n",
       "a-->p 0.394691\t\n",
       "\n",
       "a-->n 0.895956\t\n",
       "\u001b[0;31mloss: \u001b[0m\t0.037658\t\n"
      ]
     },
     "execution_count": 11,
     "metadata": {},
     "output_type": "execute_result"
    },
    {
     "data": {
      "text/plain": [
       "\u001b[0;32mEpoch 6\u001b[0m\t\n",
       "\n",
       "a-->p 0.400051\t\n",
       "\n",
       "a-->n 0.908627\t\n",
       "\u001b[0;31mloss: \u001b[0m\t0.035555\t\n"
      ]
     },
     "execution_count": 11,
     "metadata": {},
     "output_type": "execute_result"
    },
    {
     "data": {
      "text/plain": [
       "\u001b[0;32mEpoch 7\u001b[0m\t\n",
       "\n",
       "a-->p 0.398882\t\n",
       "\n",
       "a-->n 0.914817\t\n",
       "\u001b[0;31mloss: \u001b[0m\t0.036169\t\n"
      ]
     },
     "execution_count": 11,
     "metadata": {},
     "output_type": "execute_result"
    },
    {
     "data": {
      "text/plain": [
       "\u001b[0;32mEpoch 7\u001b[0m\t\n",
       "\n",
       "a-->p 0.400443\t\n",
       "\n",
       "a-->n 0.925884\t\n",
       "\u001b[0;31mloss: \u001b[0m\t0.034972\t\n"
      ]
     },
     "execution_count": 11,
     "metadata": {},
     "output_type": "execute_result"
    },
    {
     "data": {
      "text/plain": [
       "\u001b[0;32mEpoch 7\u001b[0m\t\n",
       "\n",
       "a-->p 0.406431\t\n",
       "\n",
       "a-->n 0.942769\t\n",
       "\u001b[0;31mloss: \u001b[0m\t0.032934\t\n"
      ]
     },
     "execution_count": 11,
     "metadata": {},
     "output_type": "execute_result"
    },
    {
     "data": {
      "text/plain": [
       "\u001b[0;32mEpoch 8\u001b[0m\t\n",
       "\n",
       "a-->p 0.404073\t\n",
       "\n",
       "a-->n 0.933951\t\n",
       "\u001b[0;31mloss: \u001b[0m\t0.034800\t\n"
      ]
     },
     "execution_count": 11,
     "metadata": {},
     "output_type": "execute_result"
    },
    {
     "data": {
      "text/plain": [
       "\u001b[0;32mEpoch 8\u001b[0m\t\n",
       "\n",
       "a-->p 0.404567\t\n"
      ]
     },
     "execution_count": 11,
     "metadata": {},
     "output_type": "execute_result"
    },
    {
     "data": {
      "text/plain": [
       "\n",
       "a-->n 0.934193\t\n",
       "\u001b[0;31mloss: \u001b[0m\t0.033475\t\n"
      ]
     },
     "execution_count": 11,
     "metadata": {},
     "output_type": "execute_result"
    },
    {
     "data": {
      "text/plain": [
       "\u001b[0;32mEpoch 8\u001b[0m\t\n",
       "\n",
       "a-->p 0.408220\t\n",
       "\n",
       "a-->n 0.940147\t\n",
       "\u001b[0;31mloss: \u001b[0m\t0.032149\t\n"
      ]
     },
     "execution_count": 11,
     "metadata": {},
     "output_type": "execute_result"
    },
    {
     "data": {
      "text/plain": [
       "\u001b[0;32mEpoch 9\u001b[0m\t\n",
       "\n",
       "a-->p 0.404281\t\n",
       "\n",
       "a-->n 0.935989\t\n",
       "\u001b[0;31mloss: \u001b[0m\t0.034053\t\n"
      ]
     },
     "execution_count": 11,
     "metadata": {},
     "output_type": "execute_result"
    },
    {
     "data": {
      "text/plain": [
       "\u001b[0;32mEpoch 9\u001b[0m\t\n",
       "\n",
       "a-->p 0.408430\t\n",
       "\n",
       "a-->n 0.948694\t\n",
       "\u001b[0;31mloss: \u001b[0m\t0.031189\t\n"
      ]
     },
     "execution_count": 11,
     "metadata": {},
     "output_type": "execute_result"
    },
    {
     "data": {
      "text/plain": [
       "\u001b[0;32mEpoch 9\u001b[0m\t\n",
       "\n",
       "a-->p 0.410082\t\n",
       "\n",
       "a-->n 0.957508\t\n",
       "\u001b[0;31mloss: \u001b[0m\t0.031258\t\n"
      ]
     },
     "execution_count": 11,
     "metadata": {},
     "output_type": "execute_result"
    },
    {
     "data": {
      "text/plain": [
       "\u001b[0;32mEpoch 10\u001b[0m\t\n",
       "\n",
       "a-->p 0.407746\t\n",
       "\n",
       "a-->n 0.952853\t\n",
       "\u001b[0;31mloss: \u001b[0m\t0.031980\t\n"
      ]
     },
     "execution_count": 11,
     "metadata": {},
     "output_type": "execute_result"
    },
    {
     "data": {
      "text/plain": [
       "\u001b[0;32mEpoch 10\u001b[0m\t\n",
       "\n",
       "a-->p 0.409547\t\n",
       "\n",
       "a-->n 0.957101\t\n",
       "\u001b[0;31mloss: \u001b[0m\t0.030002\t\n"
      ]
     },
     "execution_count": 11,
     "metadata": {},
     "output_type": "execute_result"
    },
    {
     "data": {
      "text/plain": [
       "\u001b[0;32mEpoch 10\u001b[0m\t\n",
       "\n",
       "a-->p 0.410535\t\n",
       "\n",
       "a-->n 0.959233\t\n",
       "\u001b[0;31mloss: \u001b[0m\t0.030986\t\n"
      ]
     },
     "execution_count": 11,
     "metadata": {},
     "output_type": "execute_result"
    },
    {
     "data": {
      "text/plain": [
       "\u001b[0;32mEpoch 11\u001b[0m\t\n",
       "\n",
       "a-->p 0.403732\t\n",
       "\n",
       "a-->n 0.939252\t\n",
       "\u001b[0;31mloss: \u001b[0m\t0.030991\t\n"
      ]
     },
     "execution_count": 11,
     "metadata": {},
     "output_type": "execute_result"
    },
    {
     "data": {
      "text/plain": [
       "\u001b[0;32mEpoch 11\u001b[0m\t\n",
       "\n",
       "a-->p 0.405658\t\n",
       "\n",
       "a-->n 0.952028\t\n",
       "\u001b[0;31mloss: \u001b[0m\t0.028670\t\n"
      ]
     },
     "execution_count": 11,
     "metadata": {},
     "output_type": "execute_result"
    },
    {
     "data": {
      "text/plain": [
       "\u001b[0;32mEpoch 11\u001b[0m\t\n",
       "\n",
       "a-->p 0.408686\t\n",
       "\n",
       "a-->n 0.965628\t\n",
       "\u001b[0;31mloss: \u001b[0m\t0.026424\t\n"
      ]
     },
     "execution_count": 11,
     "metadata": {},
     "output_type": "execute_result"
    },
    {
     "data": {
      "text/plain": [
       "\u001b[0;32mEpoch 12\u001b[0m\t\n",
       "\n",
       "a-->p 0.413923\t\n",
       "\n",
       "a-->n 0.966583\t\n",
       "\u001b[0;31mloss: \u001b[0m\t0.029628\t\n"
      ]
     },
     "execution_count": 11,
     "metadata": {},
     "output_type": "execute_result"
    },
    {
     "data": {
      "text/plain": [
       "\u001b[0;32mEpoch 12\u001b[0m\t\n",
       "\n",
       "a-->p 0.413965\t\n",
       "\n",
       "a-->n 0.973210\t\n",
       "\u001b[0;31mloss: \u001b[0m\t0.028617\t\n"
      ]
     },
     "execution_count": 11,
     "metadata": {},
     "output_type": "execute_result"
    },
    {
     "data": {
      "text/plain": [
       "\u001b[0;32mEpoch 12\u001b[0m\t\n",
       "\n",
       "a-->p 0.413186\t\n",
       "\n",
       "a-->n 0.976579\t\n",
       "\u001b[0;31mloss: \u001b[0m\t0.028200\t\n"
      ]
     },
     "execution_count": 11,
     "metadata": {},
     "output_type": "execute_result"
    },
    {
     "data": {
      "text/plain": [
       "\u001b[0;32mEpoch 13\u001b[0m\t\n",
       "\n",
       "a-->p 0.412529\t\n",
       "\n",
       "a-->n 0.968251\t\n",
       "\u001b[0;31mloss: \u001b[0m\t0.029691\t\n"
      ]
     },
     "execution_count": 11,
     "metadata": {},
     "output_type": "execute_result"
    },
    {
     "data": {
      "text/plain": [
       "\u001b[0;32mEpoch 13\u001b[0m\t\n",
       "\n",
       "a-->p 0.411611\t\n",
       "\n",
       "a-->n 0.971082\t\n",
       "\u001b[0;31mloss: \u001b[0m\t0.028531\t\n"
      ]
     },
     "execution_count": 11,
     "metadata": {},
     "output_type": "execute_result"
    },
    {
     "data": {
      "text/plain": [
       "\u001b[0;32mEpoch 13\u001b[0m\t\n",
       "\n",
       "a-->p 0.412648\t\n",
       "\n",
       "a-->n 0.979478\t\n",
       "\u001b[0;31mloss: \u001b[0m\t0.026559\t\n"
      ]
     },
     "execution_count": 11,
     "metadata": {},
     "output_type": "execute_result"
    },
    {
     "data": {
      "text/plain": [
       "\u001b[0;32mEpoch 14\u001b[0m\t\n",
       "\n",
       "a-->p 0.415370\t\n",
       "\n",
       "a-->n 0.972726\t\n",
       "\u001b[0;31mloss: \u001b[0m\t0.030950\t\n"
      ]
     },
     "execution_count": 11,
     "metadata": {},
     "output_type": "execute_result"
    },
    {
     "data": {
      "text/plain": [
       "\u001b[0;32mEpoch 14\u001b[0m\t\n",
       "\n",
       "a-->p 0.416884\t\n",
       "\n",
       "a-->n 0.976870\t\n",
       "\u001b[0;31mloss: \u001b[0m\t0.028117\t\n"
      ]
     },
     "execution_count": 11,
     "metadata": {},
     "output_type": "execute_result"
    },
    {
     "data": {
      "text/plain": [
       "\u001b[0;32mEpoch 14\u001b[0m\t\n",
       "\n",
       "a-->p 0.415370\t\n",
       "\n",
       "a-->n 0.982313\t\n",
       "\u001b[0;31mloss: \u001b[0m\t0.027495\t\n"
      ]
     },
     "execution_count": 11,
     "metadata": {},
     "output_type": "execute_result"
    },
    {
     "data": {
      "text/plain": [
       "\u001b[0;32mEpoch 15\u001b[0m\t\n",
       "\n",
       "a-->p 0.416715\t\n",
       "\n",
       "a-->n 0.974393\t\n",
       "\u001b[0;31mloss: \u001b[0m\t0.030019\t\n"
      ]
     },
     "execution_count": 11,
     "metadata": {},
     "output_type": "execute_result"
    },
    {
     "data": {
      "text/plain": [
       "\u001b[0;32mEpoch 15\u001b[0m\t\n",
       "\n",
       "a-->p 0.415133\t\n",
       "\n",
       "a-->n 0.977336\t\n",
       "\u001b[0;31mloss: \u001b[0m\t0.027516\t\n"
      ]
     },
     "execution_count": 11,
     "metadata": {},
     "output_type": "execute_result"
    },
    {
     "data": {
      "text/plain": [
       "\u001b[0;32mEpoch 15\u001b[0m\t\n",
       "\n",
       "a-->p 0.416939\t\n",
       "\n",
       "a-->n 0.984074\t\n",
       "\u001b[0;31mloss: \u001b[0m\t0.027059\t\n"
      ]
     },
     "execution_count": 11,
     "metadata": {},
     "output_type": "execute_result"
    },
    {
     "data": {
      "text/plain": [
       "\u001b[0;32mEpoch 16\u001b[0m\t\n",
       "\n",
       "a-->p 0.418103\t\n"
      ]
     },
     "execution_count": 11,
     "metadata": {},
     "output_type": "execute_result"
    },
    {
     "data": {
      "text/plain": [
       "\n",
       "a-->n 0.977817\t\n",
       "\u001b[0;31mloss: \u001b[0m\t0.029184\t\n"
      ]
     },
     "execution_count": 11,
     "metadata": {},
     "output_type": "execute_result"
    },
    {
     "data": {
      "text/plain": [
       "\u001b[0;32mEpoch 16\u001b[0m\t\n",
       "\n",
       "a-->p 0.416691\t\n",
       "\n",
       "a-->n 0.983450\t\n",
       "\u001b[0;31mloss: \u001b[0m\t0.027442\t\n"
      ]
     },
     "execution_count": 11,
     "metadata": {},
     "output_type": "execute_result"
    },
    {
     "data": {
      "text/plain": [
       "\u001b[0;32mEpoch 16\u001b[0m\t\n",
       "\n",
       "a-->p 0.418962\t\n",
       "\n",
       "a-->n 0.986219\t\n",
       "\u001b[0;31mloss: \u001b[0m\t0.027313\t\n"
      ]
     },
     "execution_count": 11,
     "metadata": {},
     "output_type": "execute_result"
    },
    {
     "data": {
      "text/plain": [
       "\u001b[0;32mEpoch 17\u001b[0m\t\n",
       "\n",
       "a-->p 0.417207\t\n",
       "\n",
       "a-->n 0.980126\t\n",
       "\u001b[0;31mloss: \u001b[0m\t0.029332\t\n"
      ]
     },
     "execution_count": 11,
     "metadata": {},
     "output_type": "execute_result"
    },
    {
     "data": {
      "text/plain": [
       "\u001b[0;32mEpoch 17\u001b[0m\t\n",
       "\n",
       "a-->p 0.416934\t\n",
       "\n",
       "a-->n 0.982816\t\n",
       "\u001b[0;31mloss: \u001b[0m\t0.027085\t\n"
      ]
     },
     "execution_count": 11,
     "metadata": {},
     "output_type": "execute_result"
    },
    {
     "data": {
      "text/plain": [
       "\u001b[0;32mEpoch 17\u001b[0m\t\n",
       "\n",
       "a-->p 0.414273\t\n",
       "\n",
       "a-->n 0.985637\t\n",
       "\u001b[0;31mloss: \u001b[0m\t0.025972\t\n"
      ]
     },
     "execution_count": 11,
     "metadata": {},
     "output_type": "execute_result"
    },
    {
     "data": {
      "text/plain": [
       "\u001b[0;32mEpoch 18\u001b[0m\t\n",
       "\n",
       "a-->p 0.417692\t\n",
       "\n",
       "a-->n 0.980080\t\n"
      ]
     },
     "execution_count": 11,
     "metadata": {},
     "output_type": "execute_result"
    },
    {
     "data": {
      "text/plain": [
       "\u001b[0;31mloss: \u001b[0m\t0.029062\t\n"
      ]
     },
     "execution_count": 11,
     "metadata": {},
     "output_type": "execute_result"
    },
    {
     "data": {
      "text/plain": [
       "\u001b[0;32mEpoch 18\u001b[0m\t\n",
       "\n",
       "a-->p 0.418702\t\n",
       "\n",
       "a-->n 0.983077\t\n",
       "\u001b[0;31mloss: \u001b[0m\t0.027961\t\n"
      ]
     },
     "execution_count": 11,
     "metadata": {},
     "output_type": "execute_result"
    },
    {
     "data": {
      "text/plain": [
       "\u001b[0;32mEpoch 18\u001b[0m\t\n",
       "\n",
       "a-->p 0.414804\t\n",
       "\n",
       "a-->n 0.985902\t\n",
       "\u001b[0;31mloss: \u001b[0m\t0.026490\t\n"
      ]
     },
     "execution_count": 11,
     "metadata": {},
     "output_type": "execute_result"
    },
    {
     "data": {
      "text/plain": [
       "\u001b[0;32mEpoch 19\u001b[0m\t\n",
       "\n",
       "a-->p 0.419856\t\n",
       "\n",
       "a-->n 0.980330\t\n",
       "\u001b[0;31mloss: \u001b[0m\t0.029730\t\n"
      ]
     },
     "execution_count": 11,
     "metadata": {},
     "output_type": "execute_result"
    },
    {
     "data": {
      "text/plain": [
       "\u001b[0;32mEpoch 19\u001b[0m\t\n",
       "\n",
       "a-->p 0.417568\t\n",
       "\n",
       "a-->n 0.983108\t\n",
       "\u001b[0;31mloss: \u001b[0m\t0.026973\t\n"
      ]
     },
     "execution_count": 11,
     "metadata": {},
     "output_type": "execute_result"
    },
    {
     "data": {
      "text/plain": [
       "\u001b[0;32mEpoch 19\u001b[0m\t\n",
       "\n",
       "a-->p 0.417023\t\n",
       "\n",
       "a-->n 0.985931\t\n",
       "\u001b[0;31mloss: \u001b[0m\t0.027074\t\n"
      ]
     },
     "execution_count": 11,
     "metadata": {},
     "output_type": "execute_result"
    },
    {
     "data": {
      "text/plain": [
       "\u001b[0;32mEpoch 20\u001b[0m\t\n",
       "\n",
       "a-->p 0.417105\t\n"
      ]
     },
     "execution_count": 11,
     "metadata": {},
     "output_type": "execute_result"
    },
    {
     "data": {
      "text/plain": [
       "\n",
       "a-->n 0.980334\t\n",
       "\u001b[0;31mloss: \u001b[0m\t0.028605\t\n"
      ]
     },
     "execution_count": 11,
     "metadata": {},
     "output_type": "execute_result"
    },
    {
     "data": {
      "text/plain": [
       "\u001b[0;32mEpoch 20\u001b[0m\t\n",
       "\n",
       "a-->p 0.417532\t\n",
       "\n",
       "a-->n 0.983220\t\n",
       "\u001b[0;31mloss: \u001b[0m\t0.026886\t\n"
      ]
     },
     "execution_count": 11,
     "metadata": {},
     "output_type": "execute_result"
    },
    {
     "data": {
      "text/plain": [
       "\u001b[0;32mEpoch 20\u001b[0m\t\n",
       "\n",
       "a-->p 0.415650\t\n",
       "\n",
       "a-->n 0.986240\t\n",
       "\u001b[0;31mloss: \u001b[0m\t0.026586\t\n"
      ]
     },
     "execution_count": 11,
     "metadata": {},
     "output_type": "execute_result"
    }
   ],
   "source": [
    "--------------------------------------------------------------------------------\n",
    "-- Fresh embedding training example\n",
    "--------------------------------------------------------------------------------\n",
    "-- Alfredo Canziani, Apr 15\n",
    "--------------------------------------------------------------------------------\n",
    "\n",
    "-- package.path = \"../?.lua;\" .. package.path\n",
    "\n",
    "require 'nn'\n",
    "require 'TripletEmbedding'\n",
    "colour = require 'trepl.colorize'\n",
    "local b = colour.blue\n",
    "\n",
    "torch.manualSeed(0)\n",
    "\n",
    "local learningRate = 0.1\n",
    "local batchSize = 10\n",
    "local embeddingSize = 3\n",
    "--local imgSize = 96\n",
    "local imgSize = 120\n",
    "local trainBatches = data.getNbOfBatches(batchSize).train\n",
    "print('trainBatches = ' .. trainBatches)\n",
    "\n",
    "\n",
    "\n",
    "\n",
    "-- Network definition\n",
    "-- convNet = nn.Sequential()\n",
    "-- convNet:add(nn.SpatialConvolution(3, 8, 5, 5))\n",
    "-- convNet:add(nn.SpatialMaxPooling(2, 2, 2, 2))\n",
    "-- convNet:add(nn.ReLU())\n",
    "-- convNet:add(nn.SpatialConvolution(8, 8, 5, 5))\n",
    "-- convNet:add(nn.SpatialMaxPooling(2, 2, 2, 2))\n",
    "-- convNet:add(nn.ReLU())\n",
    "-- convNet:add(nn.View(8*2*2))\n",
    "-- convNet:add(nn.Linear(8*2*2, embeddingSize))\n",
    "-- convNet:add(nn.BatchNormalization(embeddingSize))\n",
    "\n",
    "-- convNetPos = convNet:clone('weight', 'bias', 'gradWeight', 'gradBias')\n",
    "-- convNetNeg = convNet:clone('weight', 'bias', 'gradWeight', 'gradBias')\n",
    "\n",
    "-- -- Parallel container\n",
    "-- parallel = nn.ParallelTable()\n",
    "-- parallel:add(convNet)\n",
    "-- parallel:add(convNetPos)\n",
    "-- parallel:add(convNetNeg)\n",
    "-- parallel = parallel:cuda()\n",
    "\n",
    "local conv = nn.SpatialConvolutionMM\n",
    "local sbn = nn.SpatialBatchNormalization\n",
    "local relu = nn.ReLU\n",
    "local mp = nn.SpatialMaxPooling\n",
    "\n",
    " local net = nn.Sequential()\n",
    "\n",
    "   net:add(conv(3, 64, 3,3, 1,1, 1,1))\n",
    "   net:add(sbn(64))\n",
    "   net:add(relu(true))\n",
    "   net:add(conv(64, 64, 3,3, 1,1, 1,1))\n",
    "   net:add(sbn(64))\n",
    "   net:add(relu(true))\n",
    "   net:add(mp(2,2, 2,2))\n",
    "   net:add(conv(64, 128, 3,3, 1,1, 1,1))\n",
    "   net:add(sbn(128))\n",
    "   net:add(relu(true))\n",
    "   net:add(conv(128, 128, 3,3, 1,1, 1,1))\n",
    "   net:add(sbn(128))\n",
    "   net:add(relu(true))\n",
    "   net:add(mp(2,2, 2,2))\n",
    "   net:add(conv(128, 256, 3,3, 1,1, 1,1))\n",
    "   net:add(sbn(256))\n",
    "   net:add(relu(true))\n",
    "   net:add(conv(256, 256, 3,3, 1,1, 1,1))\n",
    "   net:add(sbn(256))\n",
    "   net:add(relu(true))\n",
    "   net:add(conv(256, 256, 3,3, 1,1, 1,1))\n",
    "   net:add(sbn(256))\n",
    "   net:add(relu(true))\n",
    "   net:add(mp(2,2, 2,2))\n",
    "   net:add(conv(256, 512, 3,3, 1,1, 1,1))\n",
    "   net:add(sbn(512))\n",
    "   net:add(relu(true))\n",
    "   net:add(conv(512, 512, 3,3, 1,1, 1,1))\n",
    "   net:add(sbn(512))\n",
    "   net:add(relu(true))\n",
    "   net:add(conv(512, 512, 3,3, 1,1, 1,1))\n",
    "   net:add(sbn(512))\n",
    "   net:add(relu(true))\n",
    "   net:add(mp(2,2, 2,2))\n",
    "   net:add(conv(512, 512, 3,3, 1,1, 1,1))\n",
    "   net:add(sbn(512))\n",
    "   net:add(relu(true))\n",
    "   net:add(conv(512, 512, 3,3, 1,1, 1,1))\n",
    "   net:add(sbn(512))\n",
    "   net:add(relu(true))\n",
    "   net:add(conv(512, 512, 3,3, 1,1, 1,1))\n",
    "   net:add(sbn(512))\n",
    "   net:add(relu(true))\n",
    "   net:add(mp(2,2, 2,2))\n",
    "\n",
    "   -- Validate shape with:\n",
    "   net:add(nn.Reshape(4608))\n",
    "\n",
    "   net:add(nn.View(4608))\n",
    "   net:add(nn.Linear(4608, 1024))\n",
    "   net:add(relu(true))\n",
    "\n",
    "   net:add(nn.Linear(1024, 64))\n",
    "   net:add(nn.Normalize(2))\n",
    "    \n",
    "    convNetPos = net:clone('weight', 'bias', 'gradWeight', 'gradBias')\n",
    "    convNetNeg = net:clone('weight', 'bias', 'gradWeight', 'gradBias')\n",
    "    -- Parallel container\n",
    "    parallel = nn.ParallelTable()\n",
    "    parallel:add(net)\n",
    "    parallel:add(convNetPos)\n",
    "    parallel:add(convNetNeg)\n",
    "    parallel = parallel:cuda()\n",
    "-- print(b('Fresh-embeddings-computation network:')); print(parallel)\n",
    "\n",
    "-- Cost function\n",
    "\n",
    "loss = nn.TripletEmbeddingCriterion()\n",
    "loss = loss:cuda()\n",
    "local sumErr = 0\n",
    "local sumMeanP = 0\n",
    "local sumMeanN = 0\n",
    "--trainBatches = trainBatches/2\n",
    "local printVal = trainBatches/3\n",
    "local epochsTotal = 20\n",
    "local file = io.open(\"stats\" .. tostring(epochsTotal) .. \".txt\", \"a\")\n",
    "\n",
    "for epoch = 1, epochsTotal do\n",
    "    for i = 1, trainBatches do\n",
    "        --print(i .. \" \" .. trainBatches)\n",
    "        local inputs = data.getBatch(i, 'train')\n",
    "\n",
    "        local resize_inputs = {torch.Tensor(batchSize, 3, imgSize, imgSize),\n",
    "            torch.Tensor(batchSize, 3, imgSize, imgSize),\n",
    "            torch.Tensor(batchSize, 3, imgSize, imgSize)}\n",
    "\n",
    "        for apn = 1, 3 do\n",
    "            for imgN = 1, batchSize do\n",
    "                resize_inputs[apn][imgN] = image.scale(inputs[apn][imgN], imgSize, imgSize)\n",
    "            end\n",
    "        end\n",
    "        --print('pass')\n",
    "        aImgs = resize_inputs[1]\n",
    "        -- Positive training samples/images\n",
    "        pImgs = resize_inputs[2]\n",
    "        -- Negative training samples/images\n",
    "        nImgs = resize_inputs[3]\n",
    "        \n",
    "        local inputs = {aImgs, pImgs, nImgs}\n",
    "       predict = parallel:forward({aImgs:cuda(), pImgs:cuda(), nImgs:cuda()})\n",
    "        --print(inputs)\n",
    "       err = loss:forward(predict)\n",
    "       sumErr = sumErr + err\n",
    "       errGrad = loss:backward(predict)\n",
    "       parallel:zeroGradParameters()\n",
    "       parallel:backward({aImgs:cuda(), pImgs:cuda(), nImgs:cuda()}, errGrad)\n",
    "\n",
    "       parallel:updateParameters(learningRate)\n",
    "        \n",
    "        local mean_ap = 0\n",
    "        local mean_an = 0\n",
    "        for j = 1, batchSize do\n",
    "            local ap = computeSimilarity(predict[1][j], predict[2][j])\n",
    "            local an = computeSimilarity(predict[1][j], predict[3][j])\n",
    "            mean_ap = mean_ap + ap\n",
    "            mean_an = mean_an + an\n",
    "        end\n",
    "        mean_ap = mean_ap / batchSize\n",
    "        mean_an = mean_an / batchSize\n",
    "        sumMeanP = sumMeanP + mean_ap\n",
    "        sumMeanN = sumMeanN + mean_an\n",
    "\n",
    "        if i==trainBatches/3 or i==2*(trainBatches/3) or i==trainBatches then  --  i%printVal == 0 then\n",
    "            print(colour.green('Epoch ' .. epoch))\n",
    "            print(('\\na-->p %.6f'):format(sumMeanP/printVal))\n",
    "            print(('\\na-->n %.6f'):format(sumMeanN/printVal))\n",
    "            print(colour.red('loss: '), ('%.6f'):format(sumErr/printVal))\n",
    "            file:write(epoch)\n",
    "            file:write(',')\n",
    "            file:write(('%.6f,'):format(sumMeanP/printVal))\n",
    "            file:write(('%.6f,'):format(sumMeanN/printVal))\n",
    "            file:write(('%.6f\\n'):format(sumErr/printVal))\n",
    "            file:flush()\n",
    "            sumMeanP = 0\n",
    "            sumMeanN = 0\n",
    "            sumErr = 0\n",
    "        end\n",
    "\n",
    "            --    print(b('gradInput[1]:')); print(errGrad[1])\\\n",
    "    end\n",
    "    \n",
    "     if epoch == epochsTotal/4 then\n",
    "            learningRate = .01\n",
    "        elseif epoch == (epochsTotal/10)*5 then\n",
    "            learningRate = .001\n",
    "        elseif epoch == (epochsTotal/10)*8 then\n",
    "            learningRate = .0001\n",
    "        elseif epoch == epochsTotal-(epochsTotal/100) then\n",
    "            learningRate = .00001\n",
    "        end\n",
    "end\n",
    "\n",
    "file:close()\n",
    "local filename = \"VGG_small_\" .. tostring(epochsTotal) .. \".t7\"\n",
    "torch.save(tostring(filename), parallel)"
   ]
  },
  {
   "cell_type": "code",
   "execution_count": null,
   "metadata": {
    "collapsed": true
   },
   "outputs": [],
   "source": []
  }
 ],
 "metadata": {
  "anaconda-cloud": {},
  "kernelspec": {
   "display_name": "iTorch",
   "language": "lua",
   "name": "itorch"
  },
  "language_info": {
   "name": "lua",
   "version": "5.1"
  }
 },
 "nbformat": 4,
 "nbformat_minor": 0
}
