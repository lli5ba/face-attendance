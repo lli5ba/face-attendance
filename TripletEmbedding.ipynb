{
 "cells": [
  {
   "cell_type": "code",
   "execution_count": 1,
   "metadata": {
    "collapsed": false
   },
   "outputs": [
    {
     "data": {
      "text/plain": [
       "Loading whole data set. Please wait..."
      ]
     },
     "execution_count": 1,
     "metadata": {},
     "output_type": "execute_result"
    },
    {
     "data": {
      "text/plain": [
       " Done.\t\n"
      ]
     },
     "execution_count": 1,
     "metadata": {},
     "output_type": "execute_result"
    }
   ],
   "source": [
    "--------------------------------------------------------------------------------\n",
    "-- Loading dataset to ram and sorting triplets\n",
    "--------------------------------------------------------------------------------\n",
    "-- Alfredo Canziani, Apr 15\n",
    "--------------------------------------------------------------------------------\n",
    "\n",
    "require 'image'\n",
    "require 'sys'\n",
    "require 'xlua'\n",
    "\n",
    "torch.setdefaulttensortype('torch.FloatTensor')\n",
    "\n",
    "local dataset = {}\n",
    "local imageSide = 256\n",
    "\n",
    "\n",
    "-- Loading the dataset to RAM --------------------------------------------------\n",
    "if paths.filep('dataset.t7') then\n",
    "   io.write('Loading whole data set. Please wait...'); io.flush()\n",
    "   dataset = torch.load('dataset.t7')\n",
    "   print(' Done.')\n",
    "else\n",
    "   -- This script uses pubfig83.v1.tgz from http://vision.seas.harvard.edu/pubfig83/\n",
    "   -- split in train and test folders\n",
    "   -- each containing identities folders with images inside.\n",
    "   -- Format:\n",
    "   -- datasetRoot/{train,test}/<celebrityName>\n",
    "   local datasetPaths = {}\n",
    "   datasetPaths.base = 'pubfig83'\n",
    "\n",
    "   for _, t in ipairs {'train', 'test'} do\n",
    "      print('Building ' .. t .. 'ing data set')\n",
    "\n",
    "      datasetPaths[t] = datasetPaths.base .. '/' .. t .. '/'\n",
    "      local identities = sys.ls(datasetPaths[t]):split('\\n')\n",
    "        print(identities)\n",
    "      local dataSize = tonumber(sys.execute('find ' .. datasetPaths[t] .. ' -iname \"*.jpg\"| wc -l'))\n",
    "        print(dataSize)\n",
    "      dataset[t] = {\n",
    "         data = torch.Tensor(dataSize, 3, imageSide, imageSide),\n",
    "         label = torch.Tensor(dataSize),\n",
    "         index = torch.Tensor(#identities, 2),\n",
    "      }\n",
    "\n",
    "        \n",
    "      local count = 0\n",
    "      for id, idName in ipairs(identities) do\n",
    "         dataset[t].index[id][1] = count + 1\n",
    "         for _, img in ipairs(sys.ls(datasetPaths[t] .. idName):split('\\n')) do\n",
    "            count = count + 1\n",
    "            xlua.progress(count, dataSize)\n",
    "            -- print(count, paths.concat(datasetPaths[t], idName, img))\n",
    "            local original = image.load(paths.concat(datasetPaths[t], idName, img))\n",
    "            local h = original:size(2)\n",
    "            local w = original:size(3)\n",
    "            local m = math.min(h, w)\n",
    "            local y = math.floor((h - m) / 2)\n",
    "            local x = math.floor((w - m) / 2)\n",
    "            dataset[t].data[count] = image.scale(\n",
    "               original[{ {}, {y + 1, y + m}, {x + 1, x + m} }],\n",
    "               imageSide, imageSide\n",
    "            )\n",
    "            dataset[t].label[count] = id\n",
    "         end\n",
    "         dataset[t].index[id][2] = count\n",
    "         collectgarbage()\n",
    "      end\n",
    "   end\n",
    "\n",
    "   io.write('Saving whole data set to disk...'); io.flush()\n",
    "   torch.save('dataset.t7', dataset)\n",
    "   print(' Done.')\n",
    "end\n",
    "\n",
    "\n",
    "-- Private functions -----------------------------------------------------------\n",
    "-- Training shuffle\n",
    "local shuffle\n",
    "\n",
    "-- New index table for t: train/test\n",
    "local shuffleShuffle = function(t)\n",
    "   shuffle = torch.randperm(dataset[t].data:size(1))\n",
    "end\n",
    "\n",
    "\n",
    "-- Get nb of (train and test) batches gives the batch size\n",
    "local nbOfBatches = {}\n",
    "local batchSize, pImgs\n",
    "local getNbOfBatches = function(bS)\n",
    "   batchSize = bS\n",
    "   for _, t in ipairs {'train', 'test'} do\n",
    "      nbOfBatches[t] = math.floor(dataset[t].data:size(1) / batchSize)\n",
    "   end\n",
    "   pImgs = torch.Tensor(batchSize, 3, imageSide, imageSide)\n",
    "   return nbOfBatches\n",
    "end\n",
    "\n",
    "\n",
    "-- Initialise the (train and test) embeddings\n",
    "local embSize\n",
    "local initEmbeddings = function(eS)\n",
    "   embSize = eS\n",
    "   for _, t in ipairs {'train', 'test'} do\n",
    "      dataset[t].emb = torch.randn(dataset[t].data:size(1), embSize)\n",
    "      dataset[t].emb = dataset[t].emb:cdiv(dataset[t].emb:norm(2, 2):repeatTensor(1, embSize))\n",
    "        print(dataset[t])\n",
    "   end\n",
    "   print('Training and testing embeddings initialised with size ' .. embSize)\n",
    "end\n",
    "\n",
    "\n",
    "-- Get batch number nb for the t (train/test) dataset\n",
    "-- <mode> by default is 'hard-neg' but can be set to 'soft-neg'\n",
    "local pEmb\n",
    "local getBatch = function(nb, t, mode, epoch)\n",
    "\n",
    "   -- Main varialbles\n",
    "   local aImgs = torch.Tensor(batchSize, 3, imageSide, imageSide)\n",
    "   local nImgs = torch.Tensor(batchSize, 3, imageSide, imageSide)\n",
    "   local emb = torch.Tensor(batchSize, embSize)\n",
    "\n",
    "   -- Auxiliary variables\n",
    "   local labels = torch.Tensor(batchSize)\n",
    "   local offset = batchSize * (nb - 1)\n",
    "\n",
    "   -- Populating anchor and positive images batches\n",
    "   for i = 1, batchSize do\n",
    "      local loc = shuffle[i + offset] -- original location in data set\n",
    "      aImgs[i]  = dataset[t].data [loc]\n",
    "      emb[i]    = dataset[t].emb  [loc]\n",
    "      labels[i] = dataset[t].label[loc]\n",
    "      if mode ~= 'soft-neg2' then\n",
    "         pImgs[i]  = dataset[t].data [math.random(\n",
    "            dataset[t].index[labels[i]][1],\n",
    "            dataset[t].index[labels[i]][2]\n",
    "         )]\n",
    "      end\n",
    "   end\n",
    "\n",
    "   -- Populating negative images batche\n",
    "   local mode = mode or 'hard-neg'\n",
    "   if mode == 'hard-neg' then\n",
    "      for i = 1, batchSize do\n",
    "         local diff = emb - emb[{ {i} }]:expandAs(emb)\n",
    "         local norms = diff:norm(2, 2):squeeze()\n",
    "         norms[labels:eq(labels[i])] = norms:max()\n",
    "         local _, nIdx = norms:min(1) -- closest n-emb to a-emb\n",
    "         nImgs[i] = aImgs[nIdx[1]]\n",
    "      end\n",
    "   elseif mode == 'soft-neg1' then\n",
    "      -- do nothing\n",
    "   elseif mode == 'soft-neg2' then\n",
    "      for i = 1, batchSize do\n",
    "         local diff = emb - emb[{ {i} }]:expandAs(emb)\n",
    "         local norms = diff:norm(2, 2):squeeze()\n",
    "         norms = norms - torch.Tensor(batchSize):fill((emb[i]-pEmb[i]):norm())\n",
    "         norms[labels:eq(labels[i])] = norms:max()\n",
    "         norms[norms:lt(0)] = norms:max()\n",
    "         local _, nIdx = norms:min(1) -- closest n-emb to a-emb\n",
    "         nImgs[i] = aImgs[nIdx[1]]\n",
    "      end\n",
    "   else error('Negative populating <mode> not recognised!')\n",
    "   end\n",
    "\n",
    "   return {aImgs, pImgs, nImgs}\n",
    "\n",
    "end\n",
    "\n",
    "\n",
    "-- Moves the batch to the GPU's RAM\n",
    "local toCuda = function(batch)\n",
    "   require 'cutorch'\n",
    "   for i in ipairs(batch) do batch[i] = batch[i]:cuda() end\n",
    "end\n",
    "\n",
    "\n",
    "-- Saves the embeddings emb for the nb batch of t (train/test) data set\n",
    "local saveEmb = function(emb, nb, t, posEmb)\n",
    "   local offset = batchSize * (nb - 1)\n",
    "   for i = 1, batchSize do\n",
    "      dataset[t].emb[shuffle[i + offset]] = emb[i]:float()\n",
    "   end\n",
    "   if posEmb then pEmb = posEmb:float() end\n",
    "end\n",
    "\n",
    "local getDataset = function()\n",
    "    \n",
    "end\n",
    "\n",
    "-- Public functions ------------------------------------------------------------\n",
    "return {\n",
    "   select         = shuffleShuffle,\n",
    "   getNbOfBatches = getNbOfBatches,\n",
    "   initEmbeddings = initEmbeddings,\n",
    "   getBatch       = getBatch,\n",
    "   toCuda         = toCuda,\n",
    "   saveEmb        = saveEmb,\n",
    "}"
   ]
  },
  {
   "cell_type": "code",
   "execution_count": null,
   "metadata": {
    "collapsed": false
   },
   "outputs": [],
   "source": []
  },
  {
   "cell_type": "code",
   "execution_count": 2,
   "metadata": {
    "collapsed": false
   },
   "outputs": [
    {
     "data": {
      "text/plain": [
       "Loading whole data set. Please wait..."
      ]
     },
     "execution_count": 2,
     "metadata": {},
     "output_type": "execute_result"
    },
    {
     "data": {
      "text/plain": [
       " Done.\t\n"
      ]
     },
     "execution_count": 2,
     "metadata": {},
     "output_type": "execute_result"
    },
    {
     "data": {
      "text/plain": [
       "Training and testing embeddings initialised with size 5\t\n"
      ]
     },
     "execution_count": 2,
     "metadata": {},
     "output_type": "execute_result"
    },
    {
     "data": {
      "text/plain": [
       "trainBatches: \t"
      ]
     },
     "execution_count": 2,
     "metadata": {},
     "output_type": "execute_result"
    },
    {
     "data": {
      "text/plain": [
       "138\t\n"
      ]
     },
     "execution_count": 2,
     "metadata": {},
     "output_type": "execute_result"
    },
    {
     "data": {
      "text/plain": [
       "batch = {aImg, pImg, nImg}: \t{\n",
       "  1 : FloatTensor - size: 10x3x256x256\n",
       "  2 : FloatTensor - size: 10x3x256x256"
      ]
     },
     "execution_count": 2,
     "metadata": {},
     "output_type": "execute_result"
    },
    {
     "data": {
      "text/plain": [
       "\n"
      ]
     },
     "execution_count": 2,
     "metadata": {},
     "output_type": "execute_result"
    },
    {
     "data": {
      "text/plain": [
       "  3 : FloatTensor - size: 10x3x256x256\n",
       "}\n"
      ]
     },
     "execution_count": 2,
     "metadata": {},
     "output_type": "execute_result"
    },
    {
     "data": {
      "text/plain": [
       "Embedding saved for fast training\t\n"
      ]
     },
     "execution_count": 2,
     "metadata": {},
     "output_type": "execute_result"
    }
   ],
   "source": [
    "torch.manualSeed(0)\n",
    "math.randomseed(0)\n",
    "\n",
    "data = require 'data'\n",
    "\n",
    "-- Shuffling training data\n",
    "data.select('train') -- or 'test'\n",
    "\n",
    "-- Initialise embeddings\n",
    "embDim = 5\n",
    "data.initEmbeddings(embDim)\n",
    "\n",
    "-- Get train and test number of batches\n",
    "batchDim = 10\n",
    "trainBatches = data.getNbOfBatches(batchDim).train\n",
    "print('trainBatches: ', trainBatches)\n",
    "\n",
    "-- Get training batch nb 1\n",
    "batch = data.getBatch(1, 'train')\n",
    "print('batch = {aImg, pImg, nImg}: ', batch)\n",
    "\n",
    "-- Send batch to cuda\n",
    "--collectgarbage()\n",
    "--data.toCuda(batch)\n",
    "--print('Batch sent to GPU memory')\n",
    "\n",
    "-- Saving embeddings\n",
    "data.saveEmb(torch.randn(batchDim, embDim), 1, 'train')\n",
    "print('Embedding saved for fast training')\n",
    "\n"
   ]
  },
  {
   "cell_type": "code",
   "execution_count": 11,
   "metadata": {
    "collapsed": false
   },
   "outputs": [],
   "source": [
    "function printTriplets(batch)\n",
    "    for i = 1, 3 do\n",
    "            itorch.image({image.scale(batch[1][i], 48, 48), image.scale(batch[2][i], 48, 48), \n",
    "                image.scale(batch[3][i], 48, 48)})\n",
    "    end\n",
    "end"
   ]
  },
  {
   "cell_type": "code",
   "execution_count": 16,
   "metadata": {
    "collapsed": false
   },
   "outputs": [
    {
     "data": {
      "text/plain": [
       "batch = {aImg, pImg, nImg}: \t{\n",
       "  1 : FloatTensor - size: 10x3x256x256\n",
       "  2 : FloatTensor - size: 10x3x256x256\n",
       "  3 : FloatTensor - size: 10x3x256x256\n",
       "}\n"
      ]
     },
     "execution_count": 16,
     "metadata": {},
     "output_type": "execute_result"
    },
    {
     "data": {
      "image/png": "[encoded data removed]",
      "text/plain": [
       "Console does not support images"
      ]
     },
     "metadata": {
      "image/png": {
       "height": 50,
       "width": 150
      }
     },
     "output_type": "display_data"
    },
    {
     "data": {
      "image/png": "[encoded data removed]",
      "text/plain": [
       "Console does not support images"
      ]
     },
     "metadata": {
      "image/png": {
       "height": 50,
       "width": 150
      }
     },
     "output_type": "display_data"
    },
    {
     "data": {
      "image/png": "[encoded data removed]",
      "text/plain": [
       "Console does not support images"
      ]
     },
     "metadata": {
      "image/png": {
       "height": 50,
       "width": 150
      }
     },
     "output_type": "display_data"
    }
   ],
   "source": [
    "\n",
    "batch = data.getBatch(138, 'train')\n",
    "print('batch = {aImg, pImg, nImg}: ', batch)\n",
    "printTriplets(batch)"
   ]
  },
  {
   "cell_type": "code",
   "execution_count": 34,
   "metadata": {
    "collapsed": false
   },
   "outputs": [],
   "source": [
    "function createModel()\n",
    "    alexnet = torch.load('alexnetowtbn_epoch55_cpu.t7')\n",
    "    alexnet:evaluate()\n",
    "    --reduce embedding size to 128\n",
    "    convNet = nn.Sequential()\n",
    "    convNet:add(alexnet)\n",
    "    convNet:add(nn.View(4096))\n",
    "    convNet:add(nn.Linear(4096, 128))\n",
    "    convNet:add(nn.Normalize(2))\n",
    "    convNetPos = convNet:clone('weight', 'bias', 'gradWeight', 'gradBias')\n",
    "    convNetNeg = convNet:clone('weight', 'bias', 'gradWeight', 'gradBias')\n",
    "    -- Parallel container\n",
    "    parallel = nn.ParallelTable()\n",
    "    parallel:add(convNet)\n",
    "    parallel:add(convNetPos)\n",
    "    parallel:add(convNetNeg)\n",
    "    return parallel\n",
    "end\n",
    "\n",
    "function computeSimilarity(x, y)\n",
    "    -- use L2 norm distance\n",
    "    return torch.dist(x, y)\n",
    "end"
   ]
  },
  {
   "cell_type": "code",
   "execution_count": 35,
   "metadata": {
    "collapsed": false
   },
   "outputs": [],
   "source": [
    "require 'nn'\n",
    "require 'TripletEmbedding'\n",
    "\n",
    "local criterion = nn.TripletEmbeddingCriterion()\n",
    "\n",
    "function trainModel(model, opt)\n",
    "    -- Get all the parameters (and gradients) of the model in a single vector.\n",
    "    local params, gradParams = model:getParameters()\n",
    "    local singleNet = model.modules[1]\n",
    "    local opt = opt or {}\n",
    "    local batchSize = opt.batchSize or 10  -- The bigger the batch size the most accurate the gradients.\n",
    "    local numEpochs = opt.numEpochs or 3\n",
    "    local trainBatches = data.getNbOfBatches(batchSize).train\n",
    "    print('trainBatches: ', trainBatches)\n",
    "    numEpochs = trainBatches\n",
    "    -- Go over the training data this number of times.\n",
    "     for epoch = 1, 2 do\n",
    "        local sum_loss = 0\n",
    "        local correct = 0\n",
    "        local inputs = data.getBatch(epoch, 'train')\n",
    "\n",
    "        -- Run over the training set samples.\n",
    "        -- set internal var Train=True so that layers like Dropout behave correctly. Also see :evaluate()\n",
    "        model:training()\n",
    "        -- 2. Perform the forward pass (prediction mode).\n",
    "        local predictions = singleNet:forward(inputs):float()\n",
    "          \n",
    "        -- 3. Evaluate results.\n",
    "        --for i = 1, predictions:size(1) do\n",
    "        --    local _, predicted_label = predictions[i]:max(1)\n",
    "        --    if predicted_label[1] == labels[i] then correct = correct + 1 end\n",
    "        --end\n",
    "        sum_loss = sum_loss + criterion:forward(predictions)\n",
    "\n",
    "        -- TODO: need to figure out how to change this to accomandate the BCECriterion\n",
    "        -- 4. Perform the backward pass (compute derivatives).\n",
    "        -- This zeroes-out all the parameters inside the model pointed by variable params.\n",
    "        model:zeroGradParameters()\n",
    "        -- This internally computes the gradients with respect to the parameters pointed by gradParams.\n",
    "        local gradPredictions = criterion:backward(predictions)\n",
    "        model:backward(inputs, gradPredictions)\n",
    "         -- 5. Perform the SGD update.\n",
    "        model:updateParameters(0.01)\n",
    "        if epoch % 10 == 0 then  -- Print this every 10 epochs.\n",
    "            print(('train epoch=%d, avg-loss=%.6f')\n",
    "                :format(epoch, sum_loss / epoch))\n",
    "        end\n",
    "\n",
    "        -- Run over the validation set for evaluation.\n",
    "        itorch.image({image.scale(inputs[1][1], 48, 48), image.scale(inputs[2][1], 48, 48), \n",
    "                image.scale(inputs[3][1], 48, 48)})\n",
    "        ap = computeSimilarity(predictions[1][1], predictions[2][1])\n",
    "        an = computeSimilarity(predictions[1][1], predictions[3][1])\n",
    "        print(('\\nsimilarity b/t a and p is %.4f'):format(ap))\n",
    "        print(('\\nsimilarity b/t a and p is %.4f'):format(an))\n",
    "        --print(('\\nvalidation accuracy at epoch = %d is %.4f'):format(epoch, validation_accuracy))\n",
    "    end\n",
    "end"
   ]
  },
  {
   "cell_type": "code",
   "execution_count": 36,
   "metadata": {
    "collapsed": false
   },
   "outputs": [
    {
     "data": {
      "text/plain": [
       "trainBatches: \t138\t\n"
      ]
     },
     "execution_count": 36,
     "metadata": {},
     "output_type": "execute_result"
    },
    {
     "ename": "/root/torch/install/share/lua/5.1/nn/Container.lua:67: \nIn 1 module of nn.Sequential:\nIn 1 module of nn.Sequential:\n/root/torch/install/share/lua/5.1/nn/SpatialConvolution.lua:108: table.THNN backend not imported\nstack traceback:\n\t[C]: in function 'assert'\n\t/root/torch/install/share/lua/5.1/nn/SpatialConvolution.lua:108: in function </root/torch/install/share/lua/5.1/nn/SpatialConvolution.lua:107>\n\t[C]: in function 'xpcall'\n\t/root/torch/install/share/lua/5.1/nn/Container.lua:63: in function 'rethrowErrors'\n\t/root/torch/install/share/lua/5.1/nn/Sequential.lua:44: in function </root/torch/install/share/lua/5.1/nn/Sequential.lua:41>\n\t[C]: in function 'xpcall'\n\t/root/torch/install/share/lua/5.1/nn/Container.lua:63: in function 'rethrowErrors'\n\t/root/torch/install/share/lua/5.1/nn/Sequential.lua:44: in function 'forward'\n\t[string \"require 'nn'...\"]:26: in function 'trainModel'\n\t[string \"local model = createModel()...\"]:2: in main chunk\n\t[C]: in function 'xpcall'\n\t/root/torch/install/share/lua/5.1/itorch/main.lua:209: in function </root/torch/install/share/lua/5.1/itorch/main.lua:173>\n\t/root/torch/install/share/lua/5.1/lzmq/poller.lua:75: in function 'poll'\n\t/root/torch/install/share/lua/5.1/lzmq/impl/loop.lua:307: in function 'poll'\n\t/root/torch/install/share/lua/5.1/lzmq/impl/loop.lua:325: in function 'sleep_ex'\n\t/root/torch/install/share/lua/5.1/lzmq/impl/loop.lua:370: in function 'start'\n\t/root/torch/install/share/lua/5.1/itorch/main.lua:381: in main chunk\n\t[C]: in function 'require'\n\t(command line):1: in main chunk\n\t[C]: at 0x00406670\n\nWARNING: If you see a stack trace below, it doesn't point to the place where this error occured. Please use only the one above.\nstack traceback:\n\t[C]: in function 'error'\n\t/root/torch/install/share/lua/5.1/nn/Container.lua:67: in function 'rethrowErrors'\n\t/root/torch/install/share/lua/5.1/nn/Sequential.lua:44: in function 'forward'\n\t[string \"require 'nn'...\"]:26: in function 'trainModel'\n\t[string \"local model = createModel()...\"]:2: in main chunk\n\t[C]: in function 'xpcall'\n\t/root/torch/install/share/lua/5.1/itorch/main.lua:209: in function </root/torch/install/share/lua/5.1/itorch/main.lua:173>\n\t/root/torch/install/share/lua/5.1/lzmq/poller.lua:75: in function 'poll'\n\t/root/torch/install/share/lua/5.1/lzmq/impl/loop.lua:307: in function 'poll'\n\t/root/torch/install/share/lua/5.1/lzmq/impl/loop.lua:325: in function 'sleep_ex'\n\t/root/torch/install/share/lua/5.1/lzmq/impl/loop.lua:370: in function 'start'\n\t/root/torch/install/share/lua/5.1/itorch/main.lua:381: in main chunk\n\t[C]: in function 'require'\n\t(command line):1: in main chunk\n\t[C]: at 0x00406670",
     "evalue": "",
     "output_type": "error",
     "traceback": [
      "/root/torch/install/share/lua/5.1/nn/Container.lua:67: \nIn 1 module of nn.Sequential:\nIn 1 module of nn.Sequential:\n/root/torch/install/share/lua/5.1/nn/SpatialConvolution.lua:108: table.THNN backend not imported\nstack traceback:\n\t[C]: in function 'assert'\n\t/root/torch/install/share/lua/5.1/nn/SpatialConvolution.lua:108: in function </root/torch/install/share/lua/5.1/nn/SpatialConvolution.lua:107>\n\t[C]: in function 'xpcall'\n\t/root/torch/install/share/lua/5.1/nn/Container.lua:63: in function 'rethrowErrors'\n\t/root/torch/install/share/lua/5.1/nn/Sequential.lua:44: in function </root/torch/install/share/lua/5.1/nn/Sequential.lua:41>\n\t[C]: in function 'xpcall'\n\t/root/torch/install/share/lua/5.1/nn/Container.lua:63: in function 'rethrowErrors'\n\t/root/torch/install/share/lua/5.1/nn/Sequential.lua:44: in function 'forward'\n\t[string \"require 'nn'...\"]:26: in function 'trainModel'\n\t[string \"local model = createModel()...\"]:2: in main chunk\n\t[C]: in function 'xpcall'\n\t/root/torch/install/share/lua/5.1/itorch/main.lua:209: in function </root/torch/install/share/lua/5.1/itorch/main.lua:173>\n\t/root/torch/install/share/lua/5.1/lzmq/poller.lua:75: in function 'poll'\n\t/root/torch/install/share/lua/5.1/lzmq/impl/loop.lua:307: in function 'poll'\n\t/root/torch/install/share/lua/5.1/lzmq/impl/loop.lua:325: in function 'sleep_ex'\n\t/root/torch/install/share/lua/5.1/lzmq/impl/loop.lua:370: in function 'start'\n\t/root/torch/install/share/lua/5.1/itorch/main.lua:381: in main chunk\n\t[C]: in function 'require'\n\t(command line):1: in main chunk\n\t[C]: at 0x00406670\n\nWARNING: If you see a stack trace below, it doesn't point to the place where this error occured. Please use only the one above.\nstack traceback:\n\t[C]: in function 'error'\n\t/root/torch/install/share/lua/5.1/nn/Container.lua:67: in function 'rethrowErrors'\n\t/root/torch/install/share/lua/5.1/nn/Sequential.lua:44: in function 'forward'\n\t[string \"require 'nn'...\"]:26: in function 'trainModel'\n\t[string \"local model = createModel()...\"]:2: in main chunk\n\t[C]: in function 'xpcall'\n\t/root/torch/install/share/lua/5.1/itorch/main.lua:209: in function </root/torch/install/share/lua/5.1/itorch/main.lua:173>\n\t/root/torch/install/share/lua/5.1/lzmq/poller.lua:75: in function 'poll'\n\t/root/torch/install/share/lua/5.1/lzmq/impl/loop.lua:307: in function 'poll'\n\t/root/torch/install/share/lua/5.1/lzmq/impl/loop.lua:325: in function 'sleep_ex'\n\t/root/torch/install/share/lua/5.1/lzmq/impl/loop.lua:370: in function 'start'\n\t/root/torch/install/share/lua/5.1/itorch/main.lua:381: in main chunk\n\t[C]: in function 'require'\n\t(command line):1: in main chunk\n\t[C]: at 0x00406670"
     ]
    }
   ],
   "source": [
    "local model = createModel()\n",
    "trainModel(model, {})"
   ]
  },
  {
   "cell_type": "code",
   "execution_count": null,
   "metadata": {
    "collapsed": true
   },
   "outputs": [],
   "source": []
  }
 ],
 "metadata": {
  "kernelspec": {
   "display_name": "iTorch",
   "language": "lua",
   "name": "itorch"
  },
  "language_info": {
   "name": "lua",
   "version": "5.1"
  }
 },
 "nbformat": 4,
 "nbformat_minor": 0
}
